{
 "cells": [
  {
   "cell_type": "code",
   "execution_count": 5,
   "id": "c5d24ecf-5c0c-4406-8546-d53e2d5f1a96",
   "metadata": {},
   "outputs": [
    {
     "name": "stdout",
     "output_type": "stream",
     "text": [
      "120\n"
     ]
    }
   ],
   "source": [
    "# Task 1\n",
    "def factorial(n):\n",
    "    if n == 0 or n == 1:\n",
    "        return 1\n",
    "    return n * factorial(n - 1)\n",
    "\n",
    "print(factorial(5))\n"
   ]
  },
  {
   "cell_type": "code",
   "execution_count": 13,
   "id": "fe9b7c1d-357b-49c5-9fe3-12c7392b98e3",
   "metadata": {},
   "outputs": [
    {
     "name": "stdin",
     "output_type": "stream",
     "text": [
      "Enter a number : 9\n"
     ]
    },
    {
     "name": "stdout",
     "output_type": "stream",
     "text": [
      "Square root of number is : 3.0\n",
      "Logarithm of number is : 2.1972245773362196\n",
      "Sine of number is : 0.4121184852417566\n"
     ]
    }
   ],
   "source": [
    "#Task 2\n",
    "import math\n",
    "a = int(input('Enter a number :'))\n",
    "print('Square root of number is :',math.sqrt(a))\n",
    "print('Logarithm of number is :',math.log(a))\n",
    "print('Sine of number is :',math.sin(a))"
   ]
  },
  {
   "cell_type": "code",
   "execution_count": null,
   "id": "735995a2-45ad-456d-9050-3e9b038fb1bf",
   "metadata": {},
   "outputs": [],
   "source": []
  }
 ],
 "metadata": {
  "kernelspec": {
   "display_name": "Python 3 (ipykernel)",
   "language": "python",
   "name": "python3"
  },
  "language_info": {
   "codemirror_mode": {
    "name": "ipython",
    "version": 3
   },
   "file_extension": ".py",
   "mimetype": "text/x-python",
   "name": "python",
   "nbconvert_exporter": "python",
   "pygments_lexer": "ipython3",
   "version": "3.12.4"
  }
 },
 "nbformat": 4,
 "nbformat_minor": 5
}
