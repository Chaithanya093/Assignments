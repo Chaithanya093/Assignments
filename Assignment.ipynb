{
 "cells": [
  {
   "cell_type": "code",
   "execution_count": 5,
   "id": "d1241273-d21e-4828-bdc6-285ce7e73c98",
   "metadata": {},
   "outputs": [
    {
     "name": "stdin",
     "output_type": "stream",
     "text": [
      "Enter the number : 5\n",
      "Enter the number : 8\n"
     ]
    },
    {
     "name": "stdout",
     "output_type": "stream",
     "text": [
      "Addition of two numbers : 13\n",
      "Substraction of two numbers : -3\n",
      "Multiplication of two numbers : 40\n",
      "Divison of two numbers : 0.625\n"
     ]
    }
   ],
   "source": [
    "# TASK1 \n",
    "a = int(input('Enter the number :'))\n",
    "b = int(input('Enter the number :'))\n",
    "print('Addition of two numbers :', a+b)\n",
    "print('Substraction of two numbers :', a-b)\n",
    "print('Multiplication of two numbers :', a*b)\n",
    "print('Divison of two numbers :', a/b)\n"
   ]
  },
  {
   "cell_type": "code",
   "execution_count": 37,
   "id": "b1f0bd9f-cbf5-4fdd-9784-49934b688431",
   "metadata": {},
   "outputs": [
    {
     "name": "stdout",
     "output_type": "stream",
     "text": [
      "Hello! Mr. Perakam Chaithanya How are you ?\n"
     ]
    }
   ],
   "source": [
    "# TASK 2\n",
    "fname = 'Perakam'\n",
    "lname = ' Chaithanya'\n",
    "Fullname = fname + lname\n",
    "print('Hello! Mr.', Fullname , 'How are you ?')"
   ]
  },
  {
   "cell_type": "code",
   "execution_count": null,
   "id": "55458184-f04a-4900-899a-776318f26cba",
   "metadata": {},
   "outputs": [],
   "source": []
  }
 ],
 "metadata": {
  "kernelspec": {
   "display_name": "Python 3 (ipykernel)",
   "language": "python",
   "name": "python3"
  },
  "language_info": {
   "codemirror_mode": {
    "name": "ipython",
    "version": 3
   },
   "file_extension": ".py",
   "mimetype": "text/x-python",
   "name": "python",
   "nbconvert_exporter": "python",
   "pygments_lexer": "ipython3",
   "version": "3.12.4"
  }
 },
 "nbformat": 4,
 "nbformat_minor": 5
}
