{
 "cells": [
  {
   "cell_type": "code",
   "execution_count": 19,
   "id": "201c2102-605a-48d1-88d0-2fa2771c15df",
   "metadata": {},
   "outputs": [
    {
     "name": "stdin",
     "output_type": "stream",
     "text": [
      "Enter the name : siva\n"
     ]
    },
    {
     "name": "stdout",
     "output_type": "stream",
     "text": [
      "siva's marks : 100\n"
     ]
    }
   ],
   "source": [
    "# Task1\n",
    "student = {'chaithu' : 99,'siva' : 100,'JP' : 98,'manju' : 98,'uday' : 100}\n",
    "name = input('Enter the name :')\n",
    "if name in student:\n",
    "    print(f\"{name}'s marks : {student[name]}\")\n",
    "else:\n",
    "    print(f\"{name}'s marks not found in the records\")"
   ]
  },
  {
   "cell_type": "code",
   "execution_count": 31,
   "id": "8bc829f9-e4dc-4fc7-ab7e-ac5db1ca7ec9",
   "metadata": {},
   "outputs": [
    {
     "name": "stdout",
     "output_type": "stream",
     "text": [
      "original_list is : [1, 2, 3, 4, 5, 6, 7, 8, 9, 10]\n",
      "extracted_list is : [1, 2, 3, 4, 5]\n",
      "[1, 2, 3, 4]\n"
     ]
    }
   ],
   "source": [
    "# Task2\n",
    "original_list = [1,2,3,4,5,6,7,8,9,10]\n",
    "print('original_list is :',original_list)\n",
    "extracted_list = original_list[:5]\n",
    "print('extracted_list is :',extracted_list )\n",
    "reversed_list = extracted_list[:-1]\n",
    "print(reversed_list)"
   ]
  },
  {
   "cell_type": "code",
   "execution_count": null,
   "id": "0c806ac8-7f89-4018-a90f-4aaaedc9d1a3",
   "metadata": {},
   "outputs": [],
   "source": []
  }
 ],
 "metadata": {
  "kernelspec": {
   "display_name": "Python 3 (ipykernel)",
   "language": "python",
   "name": "python3"
  },
  "language_info": {
   "codemirror_mode": {
    "name": "ipython",
    "version": 3
   },
   "file_extension": ".py",
   "mimetype": "text/x-python",
   "name": "python",
   "nbconvert_exporter": "python",
   "pygments_lexer": "ipython3",
   "version": "3.12.4"
  }
 },
 "nbformat": 4,
 "nbformat_minor": 5
}
