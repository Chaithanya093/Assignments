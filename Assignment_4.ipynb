{
 "cells": [
  {
   "cell_type": "code",
   "execution_count": 1,
   "id": "5b4a9d84-4df8-4d2c-8f82-d3a5b2ba3b9d",
   "metadata": {},
   "outputs": [
    {
     "name": "stdout",
     "output_type": "stream",
     "text": [
      "Error: The file 'sample.txt' was not found.\n"
     ]
    }
   ],
   "source": [
    "# Task1\n",
    "try:\n",
    "    with open(\"sample.txt\", \"r\") as file:\n",
    "        for line in file:\n",
    "            print(line.strip())\n",
    "except FileNotFoundError:\n",
    "    print(\"Error: The file 'sample.txt' was not found.\")\n"
   ]
  },
  {
   "cell_type": "code",
   "execution_count": 3,
   "id": "64755c36-1f66-4d63-adb3-5e0f2a0c64d7",
   "metadata": {},
   "outputs": [
    {
     "name": "stdin",
     "output_type": "stream",
     "text": [
      "Enter some text to write to the file:  Hello, python!\n",
      "Enter additional text to append to the file:  File Handling!!\n"
     ]
    },
    {
     "name": "stdout",
     "output_type": "stream",
     "text": [
      "\n",
      "Final content of 'output.txt':\n",
      "Hello, python!\n",
      "File Handling!!\n"
     ]
    }
   ],
   "source": [
    "# Task2\n",
    "user_input = input(\"Enter some text to write to the file: \")\n",
    "with open(\"output.txt\", \"w\") as file:\n",
    "    file.write(user_input + \"\\n\")\n",
    "additional_input = input(\"Enter additional text to append to the file: \")\n",
    "\n",
    "with open(\"output.txt\", \"a\") as file:\n",
    "    file.write(additional_input + \"\\n\")\n",
    "\n",
    "# Step 3: Read and display the final content\n",
    "print(\"\\nFinal content of 'output.txt':\")\n",
    "with open(\"output.txt\", \"r\") as file:\n",
    "    for line in file:\n",
    "        print(line.strip())\n"
   ]
  },
  {
   "cell_type": "code",
   "execution_count": null,
   "id": "ffb8bf36-59e2-43e8-ac44-cf9765708a52",
   "metadata": {},
   "outputs": [],
   "source": []
  }
 ],
 "metadata": {
  "kernelspec": {
   "display_name": "Python 3 (ipykernel)",
   "language": "python",
   "name": "python3"
  },
  "language_info": {
   "codemirror_mode": {
    "name": "ipython",
    "version": 3
   },
   "file_extension": ".py",
   "mimetype": "text/x-python",
   "name": "python",
   "nbconvert_exporter": "python",
   "pygments_lexer": "ipython3",
   "version": "3.12.4"
  }
 },
 "nbformat": 4,
 "nbformat_minor": 5
}
